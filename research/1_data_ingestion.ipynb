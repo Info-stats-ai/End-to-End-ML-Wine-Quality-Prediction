{
 "cells": [
  {
   "cell_type": "code",
   "execution_count": 4,
   "metadata": {},
   "outputs": [
    {
     "name": "stdout",
     "output_type": "stream",
     "text": [
      "/Users/omkarthakur/Desktop/Ds_project/research\n"
     ]
    }
   ],
   "source": [
    "import os\n",
    "print(os.getcwd())\n"
   ]
  },
  {
   "cell_type": "code",
   "execution_count": 5,
   "metadata": {},
   "outputs": [
    {
     "data": {
      "text/plain": [
       "'/Users/omkarthakur/Desktop/Ds_project/research'"
      ]
     },
     "execution_count": 5,
     "metadata": {},
     "output_type": "execute_result"
    }
   ],
   "source": [
    "%pwd"
   ]
  },
  {
   "cell_type": "code",
   "execution_count": 6,
   "metadata": {},
   "outputs": [
    {
     "data": {
      "text/plain": [
       "'/Users/omkarthakur/Desktop/Ds_project'"
      ]
     },
     "execution_count": 6,
     "metadata": {},
     "output_type": "execute_result"
    }
   ],
   "source": [
    "os.chdir(\"/Users/omkarthakur/Desktop/Ds_project\")  \n",
    "%pwd\n",
    "# to got to the parent directory"
   ]
  },
  {
   "cell_type": "code",
   "execution_count": 7,
   "metadata": {},
   "outputs": [],
   "source": [
    "from dataclasses import dataclass\n",
    "from pathlib import Path\n",
    "\n",
    "@dataclass\n",
    "class DataIngestionConfig:\n",
    "    root_dir: Path\n",
    "    source_URL: str\n",
    "    local_data_file: Path\n",
    "    unzip_dir: Path"
   ]
  },
  {
   "cell_type": "markdown",
   "metadata": {},
   "source": [
    "- The @dataclass is a decorator\n",
    "#### @dataclass:\n",
    "\n",
    "\n",
    "\n",
    "- Tells Python: “This class is mainly for storing data.”\n",
    "\n",
    "- You don’t need to write __init__ manually — Python will do automatically do these things:\n",
    "- So whenever we use @dataclass, we don;t have to manually write these \n",
    "\n",
    "- def __init__(self, root_dir, source_URL, local_data_file, unzip_dir):\n",
    "   -  self.root_dir = root_dir\n",
    "   -  self.source_URL = source_URL\n",
    "   -  self.local_data_file = local_data_file\n",
    "    self.unzip_dir = unzip_dir- "
   ]
  },
  {
   "cell_type": "markdown",
   "metadata": {},
   "source": []
  },
  {
   "cell_type": "code",
   "execution_count": 8,
   "metadata": {},
   "outputs": [
    {
     "name": "stdout",
     "output_type": "stream",
     "text": [
      "Requirement already satisfied: PyYAML in ./venv/lib/python3.10/site-packages (6.0.2)\n",
      "Note: you may need to restart the kernel to use updated packages.\n",
      "6.0.2\n"
     ]
    }
   ],
   "source": [
    "%pip install PyYAML\n",
    "import yaml; print(yaml.__version__)"
   ]
  },
  {
   "cell_type": "code",
   "execution_count": 9,
   "metadata": {},
   "outputs": [],
   "source": [
    "from src.datascience.constants import *\n",
    "from src.datascience.utils.common import read_yaml, create_directories"
   ]
  },
  {
   "cell_type": "code",
   "execution_count": 10,
   "metadata": {},
   "outputs": [],
   "source": [
    "class ConfigurationManager:\n",
    "    def __init__(self,\n",
    "                 config_filepath=CONFIG_FILE_PATH,\n",
    "                 params_filepath = PARAMS_FILE_PATH,\n",
    "                 schema_filepath = SCHEMA_FILE_PATH):\n",
    "        self.config=read_yaml(config_filepath)\n",
    "        self.params=read_yaml(params_filepath)\n",
    "        self.schema=read_yaml(schema_filepath)\n",
    "\n",
    "        create_directories([self.config.artifacts_root])\n",
    "\n",
    "\n",
    "    def get_data_ingestion_config(self)-> DataIngestionConfig:\n",
    "        config=self.config.data_ingestion\n",
    "        create_directories([config.root_dir])\n",
    "\n",
    "        data_ingestion_config=DataIngestionConfig(\n",
    "            root_dir=config.root_dir,\n",
    "            source_URL=config.source_URL,\n",
    "            local_data_file=config.local_data_file,\n",
    "            unzip_dir=config.unzip_dir\n",
    "\n",
    "        )\n",
    "        return data_ingestion_config"
   ]
  },
  {
   "cell_type": "code",
   "execution_count": 11,
   "metadata": {},
   "outputs": [],
   "source": [
    "import os\n",
    "import urllib.request as request\n",
    "from src.datascience import logger\n",
    "import zipfile"
   ]
  },
  {
   "cell_type": "code",
   "execution_count": 12,
   "metadata": {},
   "outputs": [],
   "source": [
    "## component-Data Ingestion\n",
    "\n",
    "class DataIngestion:\n",
    "    def __init__(self,config:DataIngestionConfig):\n",
    "        self.config=config\n",
    "    \n",
    "    # Downloading the zip file\n",
    "    def download_file(self):\n",
    "        if not os.path.exists(self.config.local_data_file):\n",
    "            filename, headers = request.urlretrieve(\n",
    "                url = self.config.source_URL,\n",
    "                filename = self.config.local_data_file\n",
    "            )\n",
    "            logger.info(f\"{filename} download! with following info: \\n{headers}\")\n",
    "        else:\n",
    "            logger.info(f\"File already exists\")\n",
    "\n",
    "    def extract_zip_file(self):\n",
    "        \"\"\"\n",
    "        zip_file_path: str\n",
    "        Extracts the zip file into the data directory\n",
    "        Function returns None\n",
    "        \"\"\"\n",
    "        unzip_path = self.config.unzip_dir\n",
    "        os.makedirs(unzip_path, exist_ok=True)\n",
    "        with zipfile.ZipFile(self.config.local_data_file, 'r') as zip_ref:\n",
    "            zip_ref.extractall(unzip_path)\n"
   ]
  },
  {
   "cell_type": "code",
   "execution_count": 13,
   "metadata": {},
   "outputs": [
    {
     "name": "stdout",
     "output_type": "stream",
     "text": [
      "[2025-09-13 16:43:23,092: INFO: common: yaml file: config/config.yaml loaded successfully]\n",
      "[2025-09-13 16:43:23,095: INFO: common: yaml file: params.yaml loaded successfully]\n",
      "[2025-09-13 16:43:23,098: INFO: common: yaml file: schema.yaml loaded successfully]\n",
      "[2025-09-13 16:43:23,100: INFO: common: created directory at: artifacts]\n",
      "[2025-09-13 16:43:23,101: INFO: common: created directory at: artifacts/data_ingestion]\n",
      "[2025-09-13 16:43:23,102: INFO: 251335794: File already exists]\n"
     ]
    }
   ],
   "source": [
    "try:\n",
    "    config=ConfigurationManager()\n",
    "    data_ingestion_config=config.get_data_ingestion_config()\n",
    "    data_ingestion=DataIngestion(config=data_ingestion_config)\n",
    "    data_ingestion.download_file()\n",
    "    data_ingestion.extract_zip_file()\n",
    "except Exception as e:\n",
    "    raise e"
   ]
  },
  {
   "cell_type": "markdown",
   "metadata": {},
   "source": [
    "Ah! This is a **YAML line**, and it’s very common in configuration files for data science or ML projects. Let’s break it down carefully.\n",
    "\n",
    "---\n",
    "\n",
    "## 1️⃣ The line\n",
    "\n",
    "```yaml\n",
    "artifacts_root: artifacts\n",
    "```\n",
    "\n",
    "---\n",
    "\n",
    "## 2️⃣ What it means\n",
    "\n",
    "* **`artifacts_root`** → this is a **key** in your YAML file.\n",
    "\n",
    "  * Usually, it represents the **base directory** where all \"artifacts\" of a project will be stored.\n",
    "  * \"Artifacts\" are outputs or generated files from your project, such as:\n",
    "\n",
    "    * trained ML models\n",
    "    * processed datasets\n",
    "    * evaluation metrics\n",
    "    * plots or reports\n",
    "\n",
    "* **`artifacts`** → this is the **value** associated with that key.\n",
    "\n",
    "  * It’s likely a folder name relative to your project root.\n",
    "  * So `artifacts_root` points to a folder called `artifacts/`.\n",
    "\n",
    "---\n",
    "\n",
    "## 3️⃣ How it would be used in Python\n",
    "\n",
    "Assuming you read your YAML config like this:\n",
    "\n",
    "```python\n",
    "from pathlib import Path\n",
    "from src.utils.io import read_yaml\n",
    "\n",
    "cfg = read_yaml(Path(\"configs/config.yaml\"))\n",
    "print(cfg.artifacts_root)\n",
    "```\n",
    "\n",
    "Output:\n",
    "\n",
    "```\n",
    "artifacts\n",
    "```\n",
    "\n",
    "You could then create directories like this:\n",
    "\n",
    "```python\n",
    "from src.utils.io import create_directories\n",
    "\n",
    "# Create the artifacts root folder\n",
    "create_directories([Path(cfg.artifacts_root)])\n",
    "```\n",
    "\n",
    "After running this, your project folder structure might look like:\n",
    "\n",
    "```\n",
    "my_project/\n",
    "├─ artifacts/\n",
    "├─ configs/\n",
    "│  └─ config.yaml\n",
    "├─ src/\n",
    "└─ logs/\n",
    "```\n",
    "\n",
    "---\n",
    "\n",
    "## 4️⃣ Why it’s useful\n",
    "\n",
    "* **Centralized storage:** All outputs go in one place (`artifacts/`), so you don’t scatter files around your project.\n",
    "* **Flexible paths:** If later you want to change where artifacts are stored, just update the YAML:\n",
    "\n",
    "  ```yaml\n",
    "  artifacts_root: output_files\n",
    "  ```\n",
    "\n",
    "  You don’t need to change any Python code.\n",
    "* **Consistency:** Makes your code more maintainable in teams or production pipelines.\n",
    "\n",
    "---\n",
    "\n",
    "## 5️⃣ Example in a typical ML project\n",
    "\n",
    "```yaml\n",
    "# config.yaml\n",
    "artifacts_root: artifacts\n",
    "data_dir: data\n",
    "model_dir: models\n",
    "```\n",
    "\n",
    "Python usage:\n",
    "\n",
    "```python\n",
    "cfg = read_yaml(Path(\"configs/config.yaml\"))\n",
    "\n",
    "# Create main folders\n",
    "create_directories([Path(cfg.artifacts_root), Path(cfg.data_dir), Path(cfg.model_dir)])\n",
    "\n",
    "# Save a model inside artifacts\n",
    "from src.utils.io import save_bin\n",
    "model_path = Path(cfg.artifacts_root) / \"model.joblib\"\n",
    "save_bin(model, model_path)\n",
    "```\n",
    "\n",
    "Resulting folder structure:\n",
    "\n",
    "```\n",
    "my_project/\n",
    "├─ artifacts/\n",
    "│  └─ model.joblib\n",
    "├─ data/\n",
    "├─ models/\n",
    "└─ configs/config.yaml\n",
    "```\n",
    "\n",
    "---\n",
    "\n",
    "✅ **Summary**\n",
    "\n",
    "* `artifacts_root` is just a **configuration key** pointing to a folder (`artifacts`) where your project outputs go.\n",
    "* Using YAML allows you to **change this folder easily without touching your code**.\n",
    "* All functions like `create_directories`, `save_json`, `save_bin` can use this folder to store results systematically.\n",
    "\n",
    "---\n",
    "\n",
    "If you want, I can also **draw a diagram showing how `artifacts_root` connects configs, directories, and saved files** in a project—it makes it visually obvious why it’s important.\n",
    "\n",
    "Do you want me to do that?\n",
    "\n"
   ]
  },
  {
   "cell_type": "code",
   "execution_count": null,
   "metadata": {},
   "outputs": [],
   "source": []
  }
 ],
 "metadata": {
  "kernelspec": {
   "display_name": "Python 3",
   "language": "python",
   "name": "python3"
  },
  "language_info": {
   "codemirror_mode": {
    "name": "ipython",
    "version": 3
   },
   "file_extension": ".py",
   "mimetype": "text/x-python",
   "name": "python",
   "nbconvert_exporter": "python",
   "pygments_lexer": "ipython3",
   "version": "3.10.0"
  }
 },
 "nbformat": 4,
 "nbformat_minor": 2
}
