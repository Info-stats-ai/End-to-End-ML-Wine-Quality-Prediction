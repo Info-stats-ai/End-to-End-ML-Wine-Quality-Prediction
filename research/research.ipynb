{
 "cells": [
  {
   "cell_type": "code",
   "execution_count": 2,
   "metadata": {},
   "outputs": [],
   "source": [
    "example={\"key1\":\"Value1\",\"key2\":\"Value 2\"}"
   ]
  },
  {
   "cell_type": "code",
   "execution_count": 3,
   "metadata": {},
   "outputs": [
    {
     "data": {
      "text/plain": [
       "'Value1'"
      ]
     },
     "execution_count": 3,
     "metadata": {},
     "output_type": "execute_result"
    }
   ],
   "source": [
    "example[\"key1\"]"
   ]
  },
  {
   "cell_type": "code",
   "execution_count": 4,
   "metadata": {},
   "outputs": [
    {
     "ename": "AttributeError",
     "evalue": "'dict' object has no attribute 'key1'",
     "output_type": "error",
     "traceback": [
      "\u001b[1;31m---------------------------------------------------------------------------\u001b[0m",
      "\u001b[1;31mAttributeError\u001b[0m                            Traceback (most recent call last)",
      "Cell \u001b[1;32mIn[4], line 1\u001b[0m\n\u001b[1;32m----> 1\u001b[0m \u001b[43mexample\u001b[49m\u001b[38;5;241;43m.\u001b[39;49m\u001b[43mkey1\u001b[49m\n",
      "\u001b[1;31mAttributeError\u001b[0m: 'dict' object has no attribute 'key1'"
     ]
    }
   ],
   "source": [
    "example.key1"
   ]
  },
  {
   "cell_type": "code",
   "execution_count": 5,
   "metadata": {},
   "outputs": [],
   "source": [
    "from box import ConfigBox"
   ]
  },
  {
   "cell_type": "code",
   "execution_count": 6,
   "metadata": {},
   "outputs": [
    {
     "data": {
      "text/plain": [
       "'Value1'"
      ]
     },
     "execution_count": 6,
     "metadata": {},
     "output_type": "execute_result"
    }
   ],
   "source": [
    "example=ConfigBox({\"key1\":\"Value1\",\"key2\":\"Value 2\"})\n",
    "example.key1"
   ]
  },
  {
   "cell_type": "code",
   "execution_count": 7,
   "metadata": {},
   "outputs": [],
   "source": [
    "## Explanation is for ensure annotation\n",
    "\n",
    "def get_product(x:int,y:int) -> int:\n",
    "    return x*y"
   ]
  },
  {
   "cell_type": "code",
   "execution_count": 8,
   "metadata": {},
   "outputs": [
    {
     "data": {
      "text/plain": [
       "4"
      ]
     },
     "execution_count": 8,
     "metadata": {},
     "output_type": "execute_result"
    }
   ],
   "source": [
    "get_product(2,2)"
   ]
  },
  {
   "cell_type": "code",
   "execution_count": 10,
   "metadata": {},
   "outputs": [
    {
     "data": {
      "text/plain": [
       "'666'"
      ]
     },
     "execution_count": 10,
     "metadata": {},
     "output_type": "execute_result"
    }
   ],
   "source": [
    "get_product(3,\"6\")"
   ]
  },
  {
   "cell_type": "code",
   "execution_count": 11,
   "metadata": {},
   "outputs": [],
   "source": [
    "from ensure import ensure_annotations\n",
    "\n",
    "@ensure_annotations\n",
    "def get_product(x:int,y:int) -> int:\n",
    "    return x*y"
   ]
  },
  {
   "cell_type": "code",
   "execution_count": 12,
   "metadata": {},
   "outputs": [
    {
     "ename": "EnsureError",
     "evalue": "Argument y of type <class 'str'> to <function get_product at 0x000002A5C84FA560> does not match annotation type <class 'int'>",
     "output_type": "error",
     "traceback": [
      "\u001b[1;31m---------------------------------------------------------------------------\u001b[0m",
      "\u001b[1;31mEnsureError\u001b[0m                               Traceback (most recent call last)",
      "Cell \u001b[1;32mIn[12], line 1\u001b[0m\n\u001b[1;32m----> 1\u001b[0m \u001b[43mget_product\u001b[49m\u001b[43m(\u001b[49m\u001b[38;5;241;43m2\u001b[39;49m\u001b[43m,\u001b[49m\u001b[38;5;124;43m\"\u001b[39;49m\u001b[38;5;124;43m4\u001b[39;49m\u001b[38;5;124;43m\"\u001b[39;49m\u001b[43m)\u001b[49m\n",
      "File \u001b[1;32me:\\UDemy Final\\MLOPS\\datascienceproject\\venv\\lib\\site-packages\\ensure\\main.py:870\u001b[0m, in \u001b[0;36mWrappedFunctionReturn.__call__\u001b[1;34m(self, *args, **kwargs)\u001b[0m\n\u001b[0;32m    868\u001b[0m     \u001b[38;5;28;01mif\u001b[39;00m \u001b[38;5;129;01mnot\u001b[39;00m \u001b[38;5;28misinstance\u001b[39m(value, templ):\n\u001b[0;32m    869\u001b[0m         msg \u001b[38;5;241m=\u001b[39m \u001b[38;5;124m\"\u001b[39m\u001b[38;5;124mArgument \u001b[39m\u001b[38;5;132;01m{arg}\u001b[39;00m\u001b[38;5;124m of type \u001b[39m\u001b[38;5;132;01m{valt}\u001b[39;00m\u001b[38;5;124m to \u001b[39m\u001b[38;5;132;01m{f}\u001b[39;00m\u001b[38;5;124m \u001b[39m\u001b[38;5;124m\"\u001b[39m \u001b[38;5;124m\"\u001b[39m\u001b[38;5;124mdoes not match annotation type \u001b[39m\u001b[38;5;132;01m{t}\u001b[39;00m\u001b[38;5;124m\"\u001b[39m\n\u001b[1;32m--> 870\u001b[0m         \u001b[38;5;28;01mraise\u001b[39;00m EnsureError(msg\u001b[38;5;241m.\u001b[39mformat(arg\u001b[38;5;241m=\u001b[39marg, f\u001b[38;5;241m=\u001b[39m\u001b[38;5;28mself\u001b[39m\u001b[38;5;241m.\u001b[39mf, t\u001b[38;5;241m=\u001b[39mtempl, valt\u001b[38;5;241m=\u001b[39m\u001b[38;5;28mtype\u001b[39m(value)))\n\u001b[0;32m    872\u001b[0m return_val \u001b[38;5;241m=\u001b[39m \u001b[38;5;28mself\u001b[39m\u001b[38;5;241m.\u001b[39mf(\u001b[38;5;241m*\u001b[39margs, \u001b[38;5;241m*\u001b[39m\u001b[38;5;241m*\u001b[39mkwargs)\n\u001b[0;32m    873\u001b[0m \u001b[38;5;28;01mif\u001b[39;00m \u001b[38;5;129;01mnot\u001b[39;00m \u001b[38;5;28misinstance\u001b[39m(return_val, \u001b[38;5;28mself\u001b[39m\u001b[38;5;241m.\u001b[39mreturn_templ):\n",
      "\u001b[1;31mEnsureError\u001b[0m: Argument y of type <class 'str'> to <function get_product at 0x000002A5C84FA560> does not match annotation type <class 'int'>"
     ]
    }
   ],
   "source": [
    "get_product(2,\"4\")"
   ]
  },
  {
   "cell_type": "code",
   "execution_count": null,
   "metadata": {},
   "outputs": [],
   "source": []
  },
  {
   "cell_type": "markdown",
   "metadata": {},
   "source": [
    "Ah! This is a **YAML line**, and it’s very common in configuration files for data science or ML projects. Let’s break it down carefully.\n",
    "\n",
    "---\n",
    "\n",
    "## 1️⃣ The line\n",
    "\n",
    "```yaml\n",
    "artifacts_root: artifacts\n",
    "```\n",
    "\n",
    "---\n",
    "\n",
    "## 2️⃣ What it means\n",
    "\n",
    "* **`artifacts_root`** → this is a **key** in your YAML file.\n",
    "\n",
    "  * Usually, it represents the **base directory** where all \"artifacts\" of a project will be stored.\n",
    "  * \"Artifacts\" are outputs or generated files from your project, such as:\n",
    "\n",
    "    * trained ML models\n",
    "    * processed datasets\n",
    "    * evaluation metrics\n",
    "    * plots or reports\n",
    "\n",
    "* **`artifacts`** → this is the **value** associated with that key.\n",
    "\n",
    "  * It’s likely a folder name relative to your project root.\n",
    "  * So `artifacts_root` points to a folder called `artifacts/`.\n",
    "\n",
    "---\n",
    "\n",
    "## 3️⃣ How it would be used in Python\n",
    "\n",
    "Assuming you read your YAML config like this:\n",
    "\n",
    "```python\n",
    "from pathlib import Path\n",
    "from src.utils.io import read_yaml\n",
    "\n",
    "cfg = read_yaml(Path(\"configs/config.yaml\"))\n",
    "print(cfg.artifacts_root)\n",
    "```\n",
    "\n",
    "Output:\n",
    "\n",
    "```\n",
    "artifacts\n",
    "```\n",
    "\n",
    "You could then create directories like this:\n",
    "\n",
    "```python\n",
    "from src.utils.io import create_directories\n",
    "\n",
    "# Create the artifacts root folder\n",
    "create_directories([Path(cfg.artifacts_root)])\n",
    "```\n",
    "\n",
    "After running this, your project folder structure might look like:\n",
    "\n",
    "```\n",
    "my_project/\n",
    "├─ artifacts/\n",
    "├─ configs/\n",
    "│  └─ config.yaml\n",
    "├─ src/\n",
    "└─ logs/\n",
    "```\n",
    "\n",
    "---\n",
    "\n",
    "## 4️⃣ Why it’s useful\n",
    "\n",
    "* **Centralized storage:** All outputs go in one place (`artifacts/`), so you don’t scatter files around your project.\n",
    "* **Flexible paths:** If later you want to change where artifacts are stored, just update the YAML:\n",
    "\n",
    "  ```yaml\n",
    "  artifacts_root: output_files\n",
    "  ```\n",
    "\n",
    "  You don’t need to change any Python code.\n",
    "* **Consistency:** Makes your code more maintainable in teams or production pipelines.\n",
    "\n",
    "---\n",
    "\n",
    "## 5️⃣ Example in a typical ML project\n",
    "\n",
    "```yaml\n",
    "# config.yaml\n",
    "artifacts_root: artifacts\n",
    "data_dir: data\n",
    "model_dir: models\n",
    "```\n",
    "\n",
    "Python usage:\n",
    "\n",
    "```python\n",
    "cfg = read_yaml(Path(\"configs/config.yaml\"))\n",
    "\n",
    "# Create main folders\n",
    "create_directories([Path(cfg.artifacts_root), Path(cfg.data_dir), Path(cfg.model_dir)])\n",
    "\n",
    "# Save a model inside artifacts\n",
    "from src.utils.io import save_bin\n",
    "model_path = Path(cfg.artifacts_root) / \"model.joblib\"\n",
    "save_bin(model, model_path)\n",
    "```\n",
    "\n",
    "Resulting folder structure:\n",
    "\n",
    "```\n",
    "my_project/\n",
    "├─ artifacts/\n",
    "│  └─ model.joblib\n",
    "├─ data/\n",
    "├─ models/\n",
    "└─ configs/config.yaml\n",
    "```\n",
    "\n",
    "---\n",
    "\n",
    "✅ **Summary**\n",
    "\n",
    "* `artifacts_root` is just a **configuration key** pointing to a folder (`artifacts`) where your project outputs go.\n",
    "* Using YAML allows you to **change this folder easily without touching your code**.\n",
    "* All functions like `create_directories`, `save_json`, `save_bin` can use this folder to store results systematically.\n",
    "\n",
    "---\n",
    "\n",
    "If you want, I can also **draw a diagram showing how `artifacts_root` connects configs, directories, and saved files** in a project—it makes it visually obvious why it’s important.\n",
    "\n",
    "Do you want me to do that?\n"
   ]
  },
  {
   "cell_type": "markdown",
   "metadata": {},
   "source": []
  }
 ],
 "metadata": {
  "kernelspec": {
   "display_name": "Python 3",
   "language": "python",
   "name": "python3"
  },
  "language_info": {
   "codemirror_mode": {
    "name": "ipython",
    "version": 3
   },
   "file_extension": ".py",
   "mimetype": "text/x-python",
   "name": "python",
   "nbconvert_exporter": "python",
   "pygments_lexer": "ipython3",
   "version": "3.10.0"
  }
 },
 "nbformat": 4,
 "nbformat_minor": 2
}
